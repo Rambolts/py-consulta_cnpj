{
 "cells": [
  {
   "cell_type": "code",
   "execution_count": 90,
   "metadata": {},
   "outputs": [
    {
     "name": "stdout",
     "output_type": "stream",
     "text": [
      "The autoreload extension is already loaded. To reload it, use:\n",
      "  %reload_ext autoreload\n"
     ]
    }
   ],
   "source": [
    "import os, sys\n",
    "sys.path.insert(0, os.path.abspath('../src'))\n",
    "%load_ext autoreload\n",
    "%autoreload 2\n",
    "\n",
    "import yaml, pandas as pd\n",
    "from dotmap import DotMap\n",
    "\n",
    "from webdriver_manager.chrome import ChromeDriverManager\n",
    "from selenium import webdriver\n",
    "from selenium.webdriver.chrome.service import Service as ChromeService\n",
    "from selenium.webdriver.common.by import By\n",
    "from selenium.webdriver.support.ui import WebDriverWait\n",
    "from selenium.webdriver.support import expected_conditions as EC\n",
    "\n",
    "from model.document import Cnpj\n",
    "\n",
    "def generator(df):\n",
    "    for _, row in df.iterrows():\n",
    "        yield row\n",
    "\n",
    "with open('../src/app_config.yml', encoding='utf-8') as f:\n",
    "    content = yaml.safe_load(f)\n",
    "config = DotMap(content, _dynamic=False)"
   ]
  },
  {
   "cell_type": "code",
   "execution_count": 91,
   "metadata": {},
   "outputs": [],
   "source": [
    "input_file  = os.path.join(config.folder_paths.input, 'input.csv')\n",
    "output_file = os.path.join(config.folder_paths.output, 'result.xlsx')\n",
    "url = config.url"
   ]
  },
  {
   "cell_type": "code",
   "execution_count": 92,
   "metadata": {},
   "outputs": [
    {
     "data": {
      "text/html": [
       "<div>\n",
       "<style scoped>\n",
       "    .dataframe tbody tr th:only-of-type {\n",
       "        vertical-align: middle;\n",
       "    }\n",
       "\n",
       "    .dataframe tbody tr th {\n",
       "        vertical-align: top;\n",
       "    }\n",
       "\n",
       "    .dataframe thead th {\n",
       "        text-align: right;\n",
       "    }\n",
       "</style>\n",
       "<table border=\"1\" class=\"dataframe\">\n",
       "  <thead>\n",
       "    <tr style=\"text-align: right;\">\n",
       "      <th></th>\n",
       "      <th>CNPJs</th>\n",
       "    </tr>\n",
       "  </thead>\n",
       "  <tbody>\n",
       "    <tr>\n",
       "      <th>84</th>\n",
       "      <td>17.138.140/0001-23</td>\n",
       "    </tr>\n",
       "    <tr>\n",
       "      <th>33</th>\n",
       "      <td>18.715.615/0001-60</td>\n",
       "    </tr>\n",
       "    <tr>\n",
       "      <th>73</th>\n",
       "      <td>32.384.344/0001-38</td>\n",
       "    </tr>\n",
       "    <tr>\n",
       "      <th>69</th>\n",
       "      <td>03.133.408/0001-20</td>\n",
       "    </tr>\n",
       "    <tr>\n",
       "      <th>21</th>\n",
       "      <td>03.389.126/0001-98</td>\n",
       "    </tr>\n",
       "  </tbody>\n",
       "</table>\n",
       "</div>"
      ],
      "text/plain": [
       "                 CNPJs\n",
       "84  17.138.140/0001-23\n",
       "33  18.715.615/0001-60\n",
       "73  32.384.344/0001-38\n",
       "69  03.133.408/0001-20\n",
       "21  03.389.126/0001-98"
      ]
     },
     "execution_count": 92,
     "metadata": {},
     "output_type": "execute_result"
    }
   ],
   "source": [
    "input_df = pd.read_csv(input_file)\n",
    "input_df.sample(5)"
   ]
  },
  {
   "cell_type": "code",
   "execution_count": 93,
   "metadata": {},
   "outputs": [],
   "source": [
    "# Montando o generator do dataframe para iterarmos utilizando o notebook\n",
    "queue = generator(input_df)"
   ]
  },
  {
   "cell_type": "code",
   "execution_count": 94,
   "metadata": {},
   "outputs": [],
   "source": [
    "documents = []\n",
    "\n",
    "driver = webdriver.Chrome(service=ChromeService(ChromeDriverManager().install()))\n",
    "wait   = WebDriverWait(driver, 10)"
   ]
  },
  {
   "cell_type": "markdown",
   "metadata": {},
   "source": [
    "## Loop de Iteração do DataFrame"
   ]
  },
  {
   "cell_type": "code",
   "execution_count": 95,
   "metadata": {},
   "outputs": [
    {
     "data": {
      "text/plain": [
       "CNPJs    17.516.113/0001-47\n",
       "Name: 0, dtype: object"
      ]
     },
     "execution_count": 95,
     "metadata": {},
     "output_type": "execute_result"
    }
   ],
   "source": [
    "item = next(queue)\n",
    "item"
   ]
  },
  {
   "cell_type": "code",
   "execution_count": 96,
   "metadata": {},
   "outputs": [],
   "source": [
    "driver.get(url)\n",
    "driver.find_element(By.XPATH, '//*[@id=\"captchaSonoro\"]').click()\n",
    "\n",
    "wait.until(EC.visibility_of_element_located((By.XPATH, '//*[@id=\"cnpj\"]')))\n",
    "element = driver.find_element(By.XPATH, '//*[@id=\"cnpj\"]') # .send_keys(item.CNPJs)\n",
    "script = f\"\"\"\n",
    "    var element = arguments[0];\n",
    "    var text = \"{item.CNPJs}\";\n",
    "    element.value = text;\n",
    "    element.dispatchEvent(new Event('input'));\n",
    "\"\"\"\n",
    "driver.execute_script(script, element)"
   ]
  },
  {
   "cell_type": "code",
   "execution_count": 97,
   "metadata": {},
   "outputs": [],
   "source": [
    "driver.find_element(By.XPATH, '//*[@id=\"txtTexto_captcha_serpro_gov_br\"]').send_keys('gkFNHv')"
   ]
  },
  {
   "cell_type": "markdown",
   "metadata": {},
   "source": [
    "Preencher Captcha"
   ]
  },
  {
   "cell_type": "code",
   "execution_count": 98,
   "metadata": {},
   "outputs": [],
   "source": [
    "driver.find_element(By.XPATH, '//*[@id=\"frmConsulta\"]/div[3]/div/button[1]').click()"
   ]
  },
  {
   "cell_type": "code",
   "execution_count": 99,
   "metadata": {},
   "outputs": [],
   "source": [
    "# Capturar falha de servidor.\n",
    "element = driver.find_element(By.XPATH, '/html/body/table/tbody/tr[2]/td/input')\n",
    "if element.is_displayed():\n",
    "    print(\"Server Error - 404\")"
   ]
  },
  {
   "cell_type": "code",
   "execution_count": 79,
   "metadata": {},
   "outputs": [],
   "source": [
    "wait.until(EC.visibility_of_element_located((By.XPATH, '//*[@id=\"principal\"]')))\n",
    "main_table_xpath = '//*[@id=\"principal\"]/table[1]/tbody/tr/td/'\n",
    "\n",
    "documents.append(Cnpj(\n",
    "    data_abertura            = driver.find_element(By.XPATH, f'{main_table_xpath}table[2]/tbody/tr/td[3]/font[2]/b').text,\n",
    "    nome_empresarial         = driver.find_element(By.XPATH, f'{main_table_xpath}table[3]/tbody/tr/td/font[2]/b').text,\n",
    "    nome_estabelecimento     = driver.find_element(By.XPATH, f'{main_table_xpath}table[4]/tbody/tr/td[1]/font[2]/b').text,\n",
    "    codigo_desc_principal    = driver.find_element(By.XPATH, f'{main_table_xpath}table[5]/tbody/tr/td/font[2]/b').text,\n",
    "    codigo_desc_secundaria   = driver.find_element(By.XPATH, f'{main_table_xpath}table[6]/tbody/tr/td/font[2]/b').text,\n",
    "    codigo_desc_natureza_jur = driver.find_element(By.XPATH, f'{main_table_xpath}table[7]/tbody/tr/td/font[2]/b').text,\n",
    "    logradouro               = driver.find_element(By.XPATH, f'{main_table_xpath}table[8]/tbody/tr/td[1]/font[2]/b').text,\n",
    "    numero                   = driver.find_element(By.XPATH, f'{main_table_xpath}table[8]/tbody/tr/td[3]/font[2]/b').text,\n",
    "    complemento              = driver.find_element(By.XPATH, f'{main_table_xpath}table[8]/tbody/tr/td[5]/font[2]/b').text,\n",
    "    cep                      = driver.find_element(By.XPATH, f'{main_table_xpath}table[9]/tbody/tr/td[1]/font[2]/b').text,\n",
    "    ente_federativo          = driver.find_element(By.XPATH, f'{main_table_xpath}table[11]/tbody/tr/td/font[2]/b').text,\n",
    "    situacao_cadastral       = driver.find_element(By.XPATH, f'{main_table_xpath}table[12]/tbody/tr/td[1]/font[2]/b').text,\n",
    "    data_situacao_cadastral  = driver.find_element(By.XPATH, f'{main_table_xpath}table[12]/tbody/tr/td[3]/font[2]/b').text\n",
    "))"
   ]
  },
  {
   "cell_type": "markdown",
   "metadata": {},
   "source": [
    "## Fim do Loop"
   ]
  },
  {
   "cell_type": "code",
   "execution_count": null,
   "metadata": {},
   "outputs": [],
   "source": [
    "# Salvando resultados\n",
    "data_dict_list = []\n",
    "\n",
    "for document in documents:\n",
    "    data_dict_list.append({\n",
    "        \"Data Abertura\": document.data_abertura,\n",
    "        \"Nome Empresarial\": document.nome_empresarial,\n",
    "        \"Nome Estabelecimento\": document.nome_estabelecimento,\n",
    "        \"Código Desc. Principal\": document.codigo_desc_principal,\n",
    "        \"Código Desc. Secundária\": document.codigo_desc_secundaria,\n",
    "        \"Código Desc. Natureza Jurídica\": document.codigo_desc_natureza_jur,\n",
    "        \"Logradouro\": document.logradouro,\n",
    "        \"Número\": document.numero,\n",
    "        \"Complemento\": document.complemento,\n",
    "        \"CEP\": document.cep,\n",
    "        \"Ente Federativo\": document.ente_federativo,\n",
    "        \"Situação Cadastral\": document.situacao_cadastral,\n",
    "        \"Data Situação Cadastral\": document.data_situacao_cadastral\n",
    "    })\n",
    "\n",
    "df = pd.DataFrame(data_dict_list)\n",
    "df"
   ]
  },
  {
   "cell_type": "code",
   "execution_count": null,
   "metadata": {},
   "outputs": [],
   "source": [
    "df.to_excel(output_file, index=False)"
   ]
  }
 ],
 "metadata": {
  "kernelspec": {
   "display_name": "proj_cnpj",
   "language": "python",
   "name": "python3"
  },
  "language_info": {
   "codemirror_mode": {
    "name": "ipython",
    "version": 3
   },
   "file_extension": ".py",
   "mimetype": "text/x-python",
   "name": "python",
   "nbconvert_exporter": "python",
   "pygments_lexer": "ipython3",
   "version": "3.9.0"
  },
  "orig_nbformat": 4
 },
 "nbformat": 4,
 "nbformat_minor": 2
}
